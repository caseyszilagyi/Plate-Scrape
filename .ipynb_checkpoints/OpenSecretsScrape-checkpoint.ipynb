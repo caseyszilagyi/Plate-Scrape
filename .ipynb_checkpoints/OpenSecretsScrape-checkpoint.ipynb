{
 "cells": [
  {
   "cell_type": "code",
   "execution_count": 3,
   "metadata": {},
   "outputs": [
    {
     "name": "stdout",
     "output_type": "stream",
     "text": [
      "b'<!DOCTYPE html>\\n<!--[if lte IE 8]><html class=\"no-js lte-ie9 lte-ie8\" lang=\"en\" dir=\"ltr\"><![endif]-->\\n<!--[if IE 9]><html class=\"no-js lte-ie9\" lang=\"en\" dir=\"ltr\"><![endif]-->\\n<!--[if gt IE 9]><!-->'\n"
     ]
    }
   ],
   "source": [
    "#Getting HTML\n",
    "\n",
    "import requests\n",
    "\n",
    "url = \"https://www.opensecrets.org/members-of-congress/members-list?cong_no=116&cycle=2020\"\n",
    "\n",
    "r = requests.get(url)\n",
    "\n",
    "print(r.content[:200])"
   ]
  },
  {
   "cell_type": "code",
   "execution_count": 22,
   "metadata": {},
   "outputs": [],
   "source": [
    "#Saving HTML Locally\n",
    "\n",
    "def save_html(html, path):\n",
    "    with open(path, 'wb') as f:\n",
    "        f.write(html)\n",
    "        \n",
    "        \n",
    "save_html(r.content, 'OpenSecrets_List')\n"
   ]
  },
  {
   "cell_type": "code",
   "execution_count": 23,
   "metadata": {},
   "outputs": [],
   "source": [
    "#Opening HTML from local file\n",
    "    \n",
    "def open_html(path):\n",
    "    with open(path, 'rb') as f:\n",
    "        return f.read()\n",
    "    \n",
    "    \n",
    "html = open_html(\"OpenSecrets_List\")  "
   ]
  },
  {
   "cell_type": "code",
   "execution_count": 4,
   "metadata": {},
   "outputs": [],
   "source": [
    "#Making BeautifulSoup Object\n",
    "\n",
    "from bs4 import BeautifulSoup\n",
    "\n",
    "soup = BeautifulSoup(r.content, 'html.parser')"
   ]
  },
  {
   "cell_type": "code",
   "execution_count": null,
   "metadata": {},
   "outputs": [],
   "source": [
    "#Do not run: HTML for an individual representative\n",
    "\n",
    "<tr role=\"row\" class=\"odd\">\n",
    "\n",
    "    <td class=\" color-category red\" style=\"height: 100%; vertical-align: middle;\">\n",
    "    \n",
    "    <span class=\"hiddentext\">Abraham, Ralph</span>\n",
    "    <a href=\"/members-of-congress/abraham-ralph/summary?cid=N00036633&amp;cycle=2020\"> Ralph Abraham</a></td>\n",
    "\n",
    "\n",
    "    <td class=\" \" style=\"height: 100%; vertical-align: middle;\">Louisiana</td>\n",
    "\n",
    "\n",
    "    <td class=\" \" style=\"height: 100%; vertical-align: middle;\">House</td>\n",
    "\n",
    "\n",
    "    <td style=\" display: none; height: 100%; vertical-align: middle;\">Republican</td>\n",
    "\n",
    "    \n",
    "    <td class=\"number \" style=\"height: 100%; vertical-align: middle;\">$36,715</td>\n",
    "\n",
    "\n",
    "    <td class=\"number \" style=\"height: 100%; vertical-align: middle;\">$140,521</td>\n",
    "\n",
    "\n",
    "    <td class=\"number \" style=\"height: 100%; vertical-align: middle;\">$0</td>\n",
    "\n",
    "\n",
    "    <td class=\"number \" style=\"height: 100%; vertical-align: middle;\">$0</td>\n",
    "\n",
    "</tr>"
   ]
  },
  {
   "cell_type": "code",
   "execution_count": 5,
   "metadata": {},
   "outputs": [
    {
     "name": "stdout",
     "output_type": "stream",
     "text": [
      "<title>Members of the 116th Congress • OpenSecrets</title>\n",
      "Abraham, Ralph Ralph Abraham\n",
      "Republican\n",
      "opensecrets.org/members-of-congress/abraham-ralph/summary?cid=N00036633&cycle=2020\n",
      "Louisiana\n",
      "House\n",
      "$36,715\n",
      "$140,521\n"
     ]
    }
   ],
   "source": [
    "#Extracting all table rows\n",
    "rows = soup.select('tbody tr')\n",
    "row = rows[0]\n",
    "\n",
    "print(soup.title)\n",
    "\n",
    "#Name\n",
    "name = row.select_one(\".color-category\").text.strip()\n",
    "print(name)\n",
    "\n",
    "#Party\n",
    "party = row.select_one(\"tr:nth-child(1) > td:nth-child(4)\").text.strip()\n",
    "print(party)\n",
    "\n",
    "#Link to Page\n",
    "pageLink = row.select_one(\".color-category a\")[\"href\"]\n",
    "pageLink = \"opensecrets.org\" + pageLink\n",
    "print(pageLink)\n",
    "\n",
    "#State\n",
    "state = row.select_one(\"tr:nth-child(1) > td:nth-child(2)\").text.strip()\n",
    "print(state)\n",
    "\n",
    "#Chamber\n",
    "chamber = row.select_one(\"tr:nth-child(1) > td:nth-child(3)\").text.strip()\n",
    "print(chamber)\n",
    "\n",
    "#Raised\n",
    "raised = row.select_one(\"tr:nth-child(1) > td:nth-child(5)\").text.strip()\n",
    "print(raised)\n",
    "\n",
    "#Spent\n",
    "spent = row.select_one(\"tr:nth-child(1) > td:nth-child(6)\").text.strip()\n",
    "print(spent)\n"
   ]
  },
  {
   "cell_type": "code",
   "execution_count": null,
   "metadata": {},
   "outputs": [],
   "source": []
  }
 ],
 "metadata": {
  "kernelspec": {
   "display_name": "Python 3",
   "language": "python",
   "name": "python3"
  },
  "language_info": {
   "codemirror_mode": {
    "name": "ipython",
    "version": 3
   },
   "file_extension": ".py",
   "mimetype": "text/x-python",
   "name": "python",
   "nbconvert_exporter": "python",
   "pygments_lexer": "ipython3",
   "version": "3.8.3"
  }
 },
 "nbformat": 4,
 "nbformat_minor": 4
}
