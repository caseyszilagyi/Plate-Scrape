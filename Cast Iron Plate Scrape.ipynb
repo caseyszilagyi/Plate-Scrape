{
 "cells": [
  {
   "cell_type": "code",
   "execution_count": 1,
   "metadata": {},
   "outputs": [
    {
     "name": "stdout",
     "output_type": "stream",
     "text": [
      "b'<!DOCTYPE html>\\r\\n<html lang=\"en\">\\r\\n<head>\\r\\n    <meta http-equiv=\"Content-type\" content=\"text/html;charset=UTF-8\"/>\\r\\n    <meta id=\"metaViewport\" content=\"width=device-width\" name=\"viewport\"/>\\r\\n    <meta http-equiv=\"X-UA-Compatible\" content=\"IE=11\"/>\\r\\n\\r\\n    \\r\\n\\r\\n    <style type=\"text/css\">@font-face{font-family:Roboto Condensed;font-style:normal;font-weight:400;src:local(\"Roboto Condensed\"),local(\"RobotoCondensed-Regular\"),url(data:font/woff2;base64,d09GMgABAAAAACk8AA4AAAAAT4QAACjjAAEAAAAAAAAAAAAAA'\n"
     ]
    }
   ],
   "source": [
    "#Getting HTML\n",
    "\n",
    "import requests\n",
    "from selenium import webdriver \n",
    "from selenium.webdriver.common.keys import Keys \n",
    "import time \n",
    "import re\n",
    "\n",
    "url = \"https://www.titan.fitness/strength/weight-plates/cast-iron-plates/cast-iron-olympic-plates/CPLATE_GROUP.html\"\n",
    "url = \"https://yorkbarbell.com/product/2-inch-cast-iron-olympic-plate/\"\n",
    "url = \"https://www.roguefitness.com/rogue-olympic-plates?gclid=Cj0KCQiAlZH_BRCgARIsAAZHSBlVDa0HIv_X2ChS5SpidgShkRbWHE4rAtYiChwfHKxorzGCDMQAu7gaAjlXEALw_wcB\"\n",
    "r = requests.get(url)\n",
    "\n",
    "print(r.content[:500])"
   ]
  },
  {
   "cell_type": "code",
   "execution_count": 3,
   "metadata": {},
   "outputs": [],
   "source": [
    "#Saving HTML Locally\n",
    "\n",
    "def save_html(html, path):\n",
    "    with open(path, 'wb') as f:\n",
    "        f.write(html)\n",
    "        \n",
    "        \n",
    "save_html(r.content, 'RogueCastIron')\n"
   ]
  },
  {
   "cell_type": "code",
   "execution_count": 4,
   "metadata": {},
   "outputs": [],
   "source": [
    "#Opening HTML from local file\n",
    "    \n",
    "def open_html(path):\n",
    "    with open(path, 'rb') as f:\n",
    "        return f.read()\n",
    "    \n",
    "    \n",
    "html = open_html(\"RogueCastIron\")  "
   ]
  },
  {
   "cell_type": "code",
   "execution_count": 39,
   "metadata": {},
   "outputs": [],
   "source": [
    "#Making BeautifulSoup Object\n",
    "\n",
    "from bs4 import BeautifulSoup\n",
    "import lxml\n",
    "\n",
    "soup = BeautifulSoup(r.content, 'html.parser')"
   ]
  },
  {
   "cell_type": "code",
   "execution_count": 23,
   "metadata": {},
   "outputs": [],
   "source": [
    "#Plate class in order to store the data for each plate\n",
    "\n",
    "class plateInfo:\n",
    "    def __init__(self, company, link, weight, price, stock):\n",
    "        self._company = company\n",
    "        self._link = link\n",
    "        self._weight = weight\n",
    "        self._price = price\n",
    "        self._stock = stock\n",
    "        self._display = (weight,price,stock)\n",
    "    \n",
    "    def getInfo(self):\n",
    "        return list(self._display)"
   ]
  },
  {
   "cell_type": "code",
   "execution_count": 44,
   "metadata": {},
   "outputs": [
    {
     "name": "stdout",
     "output_type": "stream",
     "text": [
      "['Weight', 'Price', 'Stock']\n",
      "[245.0, 419.99, 'Out of Stock']\n",
      "[2.5, 29.99, 'Out of Stock']\n",
      "[5.0, 29.99, 'Out of Stock']\n",
      "[10.0, 39.99, 'Out of Stock']\n",
      "[25.0, 74.99, 'Out of Stock']\n",
      "[35.0, 54.99, 'Out of Stock']\n",
      "[45.0, 64.99, 'Out of Stock']\n"
     ]
    }
   ],
   "source": [
    "#Extraction for Titan Fitness\n",
    "\n",
    "company = \"Titan Fitness\"\n",
    "plates = soup.findAll(\"div\", class_=\"set-item\")\n",
    "\n",
    "header = (\"Weight\", \"Price\", \"Stock\")\n",
    "print(list(header))\n",
    "\n",
    "#Looping through all Plate listings\n",
    "for plate in plates:\n",
    "    #Link\n",
    "    link = plate.select_one(\".product-name a\")[\"href\"]\n",
    "    link = \"titan.fitness\" + link\n",
    "    \n",
    "    #Price\n",
    "    price = plate.find(\"span\", class_=\"sup-hide\").text.strip()\n",
    "    price = float(price[1:])\n",
    "    \n",
    "    #Weight\n",
    "    weightString = plate.find(\"h3\", class_=\"product-name\").text.strip()\n",
    "    weight = []\n",
    "    for t in weightString.split():\n",
    "        try:\n",
    "            weight.append(float(t))\n",
    "        except ValueError:\n",
    "            pass\n",
    "    weight = weight[0]\n",
    "    \n",
    "    #Stock\n",
    "    stock = plate.find(\"span\", class_=\"availability-msg\").text.strip()\n",
    "    if \"out\" in stock:\n",
    "        stock = \"In Stock\"\n",
    "    else:\n",
    "        stock = \"Out of Stock\"\n",
    "        \n",
    "    resultPlate = plateInfo(company, link, weight, price, stock)\n",
    "    print(resultPlate.getInfo())\n"
   ]
  },
  {
   "cell_type": "code",
   "execution_count": 24,
   "metadata": {},
   "outputs": [
    {
     "ename": "NameError",
     "evalue": "name 'BeautifulSoup' is not defined",
     "output_type": "error",
     "traceback": [
      "\u001b[0;31m---------------------------------------------------------------------------\u001b[0m",
      "\u001b[0;31mNameError\u001b[0m                                 Traceback (most recent call last)",
      "\u001b[0;32m<ipython-input-24-60b658642992>\u001b[0m in \u001b[0;36m<module>\u001b[0;34m\u001b[0m\n\u001b[1;32m     31\u001b[0m         \u001b[0mtime\u001b[0m\u001b[0;34m.\u001b[0m\u001b[0msleep\u001b[0m\u001b[0;34m(\u001b[0m\u001b[0;36m1\u001b[0m\u001b[0;34m)\u001b[0m\u001b[0;34m\u001b[0m\u001b[0;34m\u001b[0m\u001b[0m\n\u001b[1;32m     32\u001b[0m         \u001b[0mpage_source\u001b[0m \u001b[0;34m=\u001b[0m \u001b[0mdriver\u001b[0m\u001b[0;34m.\u001b[0m\u001b[0mpage_source\u001b[0m\u001b[0;34m\u001b[0m\u001b[0;34m\u001b[0m\u001b[0m\n\u001b[0;32m---> 33\u001b[0;31m         \u001b[0msoup\u001b[0m \u001b[0;34m=\u001b[0m \u001b[0mBeautifulSoup\u001b[0m\u001b[0;34m(\u001b[0m\u001b[0mpage_source\u001b[0m\u001b[0;34m,\u001b[0m \u001b[0;34m'lxml'\u001b[0m\u001b[0;34m)\u001b[0m\u001b[0;34m\u001b[0m\u001b[0;34m\u001b[0m\u001b[0m\n\u001b[0m\u001b[1;32m     34\u001b[0m \u001b[0;34m\u001b[0m\u001b[0m\n\u001b[1;32m     35\u001b[0m         \u001b[0;31m#Price\u001b[0m\u001b[0;34m\u001b[0m\u001b[0;34m\u001b[0m\u001b[0;34m\u001b[0m\u001b[0m\n",
      "\u001b[0;31mNameError\u001b[0m: name 'BeautifulSoup' is not defined"
     ]
    }
   ],
   "source": [
    "#Extraction for York Barbell (using selenium)\n",
    "\n",
    "company = \"York Barbell\"\n",
    "link = \"https://yorkbarbell.com/product/2-inch-cast-iron-olympic-plate/\"\n",
    "\n",
    "#Selenium accessing chrome broswer driver in incognito mode and without opening broswer window\n",
    "options = webdriver.ChromeOptions()\n",
    "options.add_argument('--ignore-certificate-errors')\n",
    "options.add_argument('--incognito')\n",
    "options.add_argument('--headless')\n",
    "driver = webdriver.Chrome(\"/usr/local/bin/chromedriver\", options=options)\n",
    "\n",
    "#Iterating through the dropdown and automating clicking\n",
    "driver.get(\"https://yorkbarbell.com/product/2-inch-cast-iron-olympic-plate/\")\n",
    "plates = driver.find_elements_by_class_name(\"attached\")\n",
    "\n",
    "for x in range(len(plates)):\n",
    "        \n",
    "        #Weight (Before click)\n",
    "        weightString = plates[x].text.strip()\n",
    "        weight = []\n",
    "        for t in weightString.split():\n",
    "            try:\n",
    "                weight.append(float(t))\n",
    "            except ValueError:\n",
    "                pass\n",
    "        weight = weight[0]\n",
    "                \n",
    "        #Clicks each dropdown option\n",
    "        plates[x].click()\n",
    "        time.sleep(1)\n",
    "        page_source = driver.page_source\n",
    "        soup = BeautifulSoup(page_source, 'lxml')\n",
    "        \n",
    "        #Price\n",
    "        priceString = soup.select_one(\".woocommerce-variation-price\").text.strip()\n",
    "        length = len(priceString)\n",
    "        price = priceString[1:length]\n",
    "        \n",
    "        #Stock\n",
    "        stock = soup.select_one(\".woocommerce-variation-availability\").text.strip()\n",
    "        \n",
    "        plates = driver.find_elements_by_class_name(\"attached\")\n",
    "        resultPlate = plateInfo(company, link, weight, price, stock)\n",
    "        print(resultPlate.getInfo())\n",
    "        \n",
    "driver.close()\n",
    "\n",
    "\n",
    "\n",
    "    #resultPlate = plateInfo(company, link, weight, price, stock)\n",
    "    #print(resultPlate.getInfo())"
   ]
  },
  {
   "cell_type": "code",
   "execution_count": 26,
   "metadata": {},
   "outputs": [
    {
     "name": "stdout",
     "output_type": "stream",
     "text": [
      "[1.25, '7.50', 'Out of Stock']\n",
      "[2.5, '8.50', 'Out of Stock']\n",
      "[5.0, '15.00', 'Out of Stock']\n",
      "[10.0, '24.25', 'Out of Stock']\n",
      "[25.0, '64.00', 'Out of Stock']\n",
      "[35.0, '88.00', 'Out of Stock']\n",
      "[45.0, '105.00', 'Out of Stock']\n",
      "[100.0, '250.00', 'Out of Stock']\n"
     ]
    }
   ],
   "source": [
    "#Extraction for Rogue Fitness\n",
    "\n",
    "company = \"Rogue Fitness\"\n",
    "link = \"https://www.roguefitness.com/rogue-olympic-plates?gclid=Cj0KCQiAlZH_BRCgARIsAAZHSBlVDa0HIv_X2ChS5SpidgShkRbWHE4rAtYiChwfHKxorzGCDMQAu7gaAjlXEALw_wcB\"\n",
    "\n",
    "#Selenium accessing chrome broswer driver in incognito mode and without opening broswer window\n",
    "options = webdriver.ChromeOptions()\n",
    "options.add_argument('--ignore-certificate-errors')\n",
    "options.add_argument('--incognito')\n",
    "options.add_argument('--headless')\n",
    "driver = webdriver.Chrome(\"/usr/local/bin/chromedriver\", options=options)\n",
    "\n",
    "#Iterating through the dropdown and automating clicking\n",
    "driver.get(\"https://www.roguefitness.com/rogue-olympic-plates?gclid=Cj0KCQiAlZH_BRCgARIsAAZHSBlVDa0HIv_X2ChS5SpidgShkRbWHE4rAtYiChwfHKxorzGCDMQAu7gaAjlXEALw_wcB\")\n",
    "\n",
    "weights = driver.find_elements_by_class_name(\"item-name\")\n",
    "prices = driver.find_elements_by_class_name(\"item-price\")\n",
    "stocks = driver.find_elements_by_class_name(\"add-to-cart\")\n",
    "\n",
    "\n",
    "\n",
    "for x in range(len(weights)):\n",
    "    #Weight\n",
    "    weightString = weights[x].text.strip()\n",
    "    weight = []\n",
    "    for t in weightString.split(\"LB\"):\n",
    "        try:\n",
    "            weight.append(float(t))\n",
    "        except ValueError:\n",
    "            pass\n",
    "    weight = weight[0]\n",
    "    \n",
    "    #Price\n",
    "    price = prices[x].text.strip()\n",
    "    price = price[1:len(price)]\n",
    "    \n",
    "    #Stock\n",
    "    if(stocks[x].text.strip() == \"Notify Me\"):\n",
    "        stock = \"Out of Stock\"\n",
    "    else:\n",
    "        stock = \"In Stock\"\n",
    "    \n",
    "    resultPlate = plateInfo(company, link, weight, price, stock)\n",
    "    print(resultPlate.getInfo())\n",
    "    \n"
   ]
  },
  {
   "cell_type": "code",
   "execution_count": 56,
   "metadata": {},
   "outputs": [
    {
     "data": {
      "text/plain": [
       "Status(_api=<tweepy.api.API object at 0x7f8ade8a7d90>, _json={'created_at': 'Wed Dec 16 02:46:55 +0000 2020', 'id': 1339039274616938496, 'id_str': '1339039274616938496', 'text': 'testing123', 'truncated': False, 'entities': {'hashtags': [], 'symbols': [], 'user_mentions': [], 'urls': []}, 'source': '', 'in_reply_to_status_id': None, 'in_reply_to_status_id_str': None, 'in_reply_to_user_id': None, 'in_reply_to_user_id_str': None, 'in_reply_to_screen_name': None, 'user': {'id': 1334966865731448832, 'id_str': '1334966865731448832', 'name': 'Cast Iron Plate Price Tracker', 'screen_name': 'CastPrice', 'location': '', 'description': '', 'url': None, 'entities': {'description': {'urls': []}}, 'protected': False, 'followers_count': 0, 'friends_count': 0, 'listed_count': 0, 'created_at': 'Fri Dec 04 21:04:55 +0000 2020', 'favourites_count': 0, 'utc_offset': None, 'time_zone': None, 'geo_enabled': False, 'verified': False, 'statuses_count': 2, 'lang': None, 'contributors_enabled': False, 'is_translator': False, 'is_translation_enabled': False, 'profile_background_color': 'F5F8FA', 'profile_background_image_url': None, 'profile_background_image_url_https': None, 'profile_background_tile': False, 'profile_image_url': 'http://abs.twimg.com/sticky/default_profile_images/default_profile_normal.png', 'profile_image_url_https': 'https://abs.twimg.com/sticky/default_profile_images/default_profile_normal.png', 'profile_link_color': '1DA1F2', 'profile_sidebar_border_color': 'C0DEED', 'profile_sidebar_fill_color': 'DDEEF6', 'profile_text_color': '333333', 'profile_use_background_image': True, 'has_extended_profile': True, 'default_profile': True, 'default_profile_image': True, 'following': False, 'follow_request_sent': False, 'notifications': False, 'translator_type': 'none'}, 'geo': None, 'coordinates': None, 'place': None, 'contributors': None, 'is_quote_status': False, 'retweet_count': 0, 'favorite_count': 0, 'favorited': False, 'retweeted': False, 'lang': 'en'}, created_at=datetime.datetime(2020, 12, 16, 2, 46, 55), id=1339039274616938496, id_str='1339039274616938496', text='testing123', truncated=False, entities={'hashtags': [], 'symbols': [], 'user_mentions': [], 'urls': []}, source='', source_url=None, in_reply_to_status_id=None, in_reply_to_status_id_str=None, in_reply_to_user_id=None, in_reply_to_user_id_str=None, in_reply_to_screen_name=None, author=User(_api=<tweepy.api.API object at 0x7f8ade8a7d90>, _json={'id': 1334966865731448832, 'id_str': '1334966865731448832', 'name': 'Cast Iron Plate Price Tracker', 'screen_name': 'CastPrice', 'location': '', 'description': '', 'url': None, 'entities': {'description': {'urls': []}}, 'protected': False, 'followers_count': 0, 'friends_count': 0, 'listed_count': 0, 'created_at': 'Fri Dec 04 21:04:55 +0000 2020', 'favourites_count': 0, 'utc_offset': None, 'time_zone': None, 'geo_enabled': False, 'verified': False, 'statuses_count': 2, 'lang': None, 'contributors_enabled': False, 'is_translator': False, 'is_translation_enabled': False, 'profile_background_color': 'F5F8FA', 'profile_background_image_url': None, 'profile_background_image_url_https': None, 'profile_background_tile': False, 'profile_image_url': 'http://abs.twimg.com/sticky/default_profile_images/default_profile_normal.png', 'profile_image_url_https': 'https://abs.twimg.com/sticky/default_profile_images/default_profile_normal.png', 'profile_link_color': '1DA1F2', 'profile_sidebar_border_color': 'C0DEED', 'profile_sidebar_fill_color': 'DDEEF6', 'profile_text_color': '333333', 'profile_use_background_image': True, 'has_extended_profile': True, 'default_profile': True, 'default_profile_image': True, 'following': False, 'follow_request_sent': False, 'notifications': False, 'translator_type': 'none'}, id=1334966865731448832, id_str='1334966865731448832', name='Cast Iron Plate Price Tracker', screen_name='CastPrice', location='', description='', url=None, entities={'description': {'urls': []}}, protected=False, followers_count=0, friends_count=0, listed_count=0, created_at=datetime.datetime(2020, 12, 4, 21, 4, 55), favourites_count=0, utc_offset=None, time_zone=None, geo_enabled=False, verified=False, statuses_count=2, lang=None, contributors_enabled=False, is_translator=False, is_translation_enabled=False, profile_background_color='F5F8FA', profile_background_image_url=None, profile_background_image_url_https=None, profile_background_tile=False, profile_image_url='http://abs.twimg.com/sticky/default_profile_images/default_profile_normal.png', profile_image_url_https='https://abs.twimg.com/sticky/default_profile_images/default_profile_normal.png', profile_link_color='1DA1F2', profile_sidebar_border_color='C0DEED', profile_sidebar_fill_color='DDEEF6', profile_text_color='333333', profile_use_background_image=True, has_extended_profile=True, default_profile=True, default_profile_image=True, following=False, follow_request_sent=False, notifications=False, translator_type='none'), user=User(_api=<tweepy.api.API object at 0x7f8ade8a7d90>, _json={'id': 1334966865731448832, 'id_str': '1334966865731448832', 'name': 'Cast Iron Plate Price Tracker', 'screen_name': 'CastPrice', 'location': '', 'description': '', 'url': None, 'entities': {'description': {'urls': []}}, 'protected': False, 'followers_count': 0, 'friends_count': 0, 'listed_count': 0, 'created_at': 'Fri Dec 04 21:04:55 +0000 2020', 'favourites_count': 0, 'utc_offset': None, 'time_zone': None, 'geo_enabled': False, 'verified': False, 'statuses_count': 2, 'lang': None, 'contributors_enabled': False, 'is_translator': False, 'is_translation_enabled': False, 'profile_background_color': 'F5F8FA', 'profile_background_image_url': None, 'profile_background_image_url_https': None, 'profile_background_tile': False, 'profile_image_url': 'http://abs.twimg.com/sticky/default_profile_images/default_profile_normal.png', 'profile_image_url_https': 'https://abs.twimg.com/sticky/default_profile_images/default_profile_normal.png', 'profile_link_color': '1DA1F2', 'profile_sidebar_border_color': 'C0DEED', 'profile_sidebar_fill_color': 'DDEEF6', 'profile_text_color': '333333', 'profile_use_background_image': True, 'has_extended_profile': True, 'default_profile': True, 'default_profile_image': True, 'following': False, 'follow_request_sent': False, 'notifications': False, 'translator_type': 'none'}, id=1334966865731448832, id_str='1334966865731448832', name='Cast Iron Plate Price Tracker', screen_name='CastPrice', location='', description='', url=None, entities={'description': {'urls': []}}, protected=False, followers_count=0, friends_count=0, listed_count=0, created_at=datetime.datetime(2020, 12, 4, 21, 4, 55), favourites_count=0, utc_offset=None, time_zone=None, geo_enabled=False, verified=False, statuses_count=2, lang=None, contributors_enabled=False, is_translator=False, is_translation_enabled=False, profile_background_color='F5F8FA', profile_background_image_url=None, profile_background_image_url_https=None, profile_background_tile=False, profile_image_url='http://abs.twimg.com/sticky/default_profile_images/default_profile_normal.png', profile_image_url_https='https://abs.twimg.com/sticky/default_profile_images/default_profile_normal.png', profile_link_color='1DA1F2', profile_sidebar_border_color='C0DEED', profile_sidebar_fill_color='DDEEF6', profile_text_color='333333', profile_use_background_image=True, has_extended_profile=True, default_profile=True, default_profile_image=True, following=False, follow_request_sent=False, notifications=False, translator_type='none'), geo=None, coordinates=None, place=None, contributors=None, is_quote_status=False, retweet_count=0, favorite_count=0, favorited=False, retweeted=False, lang='en')"
      ]
     },
     "execution_count": 56,
     "metadata": {},
     "output_type": "execute_result"
    }
   ],
   "source": [
    "import tweepy as tp\n",
    "import time\n",
    "import os\n",
    "\n",
    "APIKey = \"Lhcnye2K3sKUiwimLwz0ET2qt\"\n",
    "APISecretKey = \"5EVmjTS2Q59K2gnTg2kGHwpDbKRHwIMFDDXwYB4lnSjnXuQAfv\"\n",
    "AccessToken = \"1334966865731448832-8k0oBUnUotF5oCKDMj8THsAOKoR4xh\"\n",
    "AccessTokenSecret = \"3pGY3nSHhqVn9znwnaXojfKASTORiBWAitSPVWa155ZIh\"\n",
    "BearerToken = \"AAAAAAAAAAAAAAAAAAAAAOtsKQEAAAAAyowOIGR2YX47m4XaTx0AeMy2s1g%3DzWKIDDcTXLCQlFEXrl4Rwe8gndWqyPMeGDeSMujqZ61s7iWf0G\"\n",
    "\n",
    "#Login\n",
    "auth = tp.OAuthHandler(APIKey, APISecretKey)\n",
    "auth.set_access_token(AccessToken, AccessTokenSecret)\n",
    "api = tp.API(auth)\n",
    "\n",
    "api.update_status(\"testing123\")"
   ]
  },
  {
   "cell_type": "code",
   "execution_count": null,
   "metadata": {},
   "outputs": [],
   "source": []
  }
 ],
 "metadata": {
  "kernelspec": {
   "display_name": "Python 3",
   "language": "python",
   "name": "python3"
  },
  "language_info": {
   "codemirror_mode": {
    "name": "ipython",
    "version": 3
   },
   "file_extension": ".py",
   "mimetype": "text/x-python",
   "name": "python",
   "nbconvert_exporter": "python",
   "pygments_lexer": "ipython3",
   "version": "3.8.3"
  }
 },
 "nbformat": 4,
 "nbformat_minor": 4
}
